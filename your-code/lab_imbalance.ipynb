{
 "cells": [
  {
   "cell_type": "markdown",
   "metadata": {},
   "source": [
    "# Inbalanced Classes\n",
    "## In this lab, we are going to explore a case of imbalanced classes. \n",
    "\n",
    "\n",
    "Like we discussed in class, when we have noisy data, if we are not careful, we can end up fitting our model to the noise in the data and not the 'signal'-- the factors that actually determine the outcome. This is called overfitting, and results in good results in training, and in bad results when the model is applied to real data. Similarly, we could have a model that is too simplistic to accurately model the signal (underfitting). This produces a model that doesnt work well (ever). \n"
   ]
  },
  {
   "cell_type": "markdown",
   "metadata": {},
   "source": [
    "### Note: before doing the first commit, make sure you don't include the large csv file, either by adding it to .gitignore, or by deleting it."
   ]
  },
  {
   "cell_type": "markdown",
   "metadata": {},
   "source": [
    "### First, download the data from: https://www.kaggle.com/ntnu-testimon/paysim1. Import the dataset and provide some discriptive statistics and plots. What do you think will be the important features in determining the outcome?\n",
    "### Note: don't use the entire dataset, use a sample instead, with n=100000 elements, so your computer doesn't freeze."
   ]
  },
  {
   "cell_type": "code",
   "execution_count": 99,
   "metadata": {},
   "outputs": [],
   "source": [
    "# Your code here\n",
    "import pandas as pd\n",
    "import numpy as np\n",
    "import matplotlib.pyplot as plt\n",
    "import seaborn as sns\n"
   ]
  },
  {
   "cell_type": "code",
   "execution_count": 100,
   "metadata": {},
   "outputs": [],
   "source": [
    "#import dataset\n",
    "\n",
    "data = pd.read_csv('../PS_20174392719_1491204439457_log.csv')\n"
   ]
  },
  {
   "cell_type": "code",
   "execution_count": 101,
   "metadata": {},
   "outputs": [],
   "source": [
    "# get sample from data\n",
    "\n",
    "sample = data.sample(n=100000)"
   ]
  },
  {
   "cell_type": "code",
   "execution_count": 146,
   "metadata": {},
   "outputs": [],
   "source": [
    "sample.to_csv('../sample.csv')"
   ]
  },
  {
   "cell_type": "code",
   "execution_count": 102,
   "metadata": {},
   "outputs": [
    {
     "data": {
      "text/html": [
       "<div>\n",
       "<style scoped>\n",
       "    .dataframe tbody tr th:only-of-type {\n",
       "        vertical-align: middle;\n",
       "    }\n",
       "\n",
       "    .dataframe tbody tr th {\n",
       "        vertical-align: top;\n",
       "    }\n",
       "\n",
       "    .dataframe thead th {\n",
       "        text-align: right;\n",
       "    }\n",
       "</style>\n",
       "<table border=\"1\" class=\"dataframe\">\n",
       "  <thead>\n",
       "    <tr style=\"text-align: right;\">\n",
       "      <th></th>\n",
       "      <th>step</th>\n",
       "      <th>type</th>\n",
       "      <th>amount</th>\n",
       "      <th>nameOrig</th>\n",
       "      <th>oldbalanceOrg</th>\n",
       "      <th>newbalanceOrig</th>\n",
       "      <th>nameDest</th>\n",
       "      <th>oldbalanceDest</th>\n",
       "      <th>newbalanceDest</th>\n",
       "      <th>isFraud</th>\n",
       "      <th>isFlaggedFraud</th>\n",
       "    </tr>\n",
       "  </thead>\n",
       "  <tbody>\n",
       "    <tr>\n",
       "      <th>4128255</th>\n",
       "      <td>302</td>\n",
       "      <td>CASH_IN</td>\n",
       "      <td>45747.29</td>\n",
       "      <td>C1782139167</td>\n",
       "      <td>628.00</td>\n",
       "      <td>46375.29</td>\n",
       "      <td>C1925816201</td>\n",
       "      <td>2571666.58</td>\n",
       "      <td>2525919.29</td>\n",
       "      <td>0</td>\n",
       "      <td>0</td>\n",
       "    </tr>\n",
       "    <tr>\n",
       "      <th>2893363</th>\n",
       "      <td>228</td>\n",
       "      <td>CASH_OUT</td>\n",
       "      <td>288027.93</td>\n",
       "      <td>C2081528632</td>\n",
       "      <td>0.00</td>\n",
       "      <td>0.00</td>\n",
       "      <td>C537655715</td>\n",
       "      <td>1001454.64</td>\n",
       "      <td>1289482.56</td>\n",
       "      <td>0</td>\n",
       "      <td>0</td>\n",
       "    </tr>\n",
       "    <tr>\n",
       "      <th>3680430</th>\n",
       "      <td>276</td>\n",
       "      <td>PAYMENT</td>\n",
       "      <td>7426.16</td>\n",
       "      <td>C1205936924</td>\n",
       "      <td>94263.31</td>\n",
       "      <td>86837.15</td>\n",
       "      <td>M570284043</td>\n",
       "      <td>0.00</td>\n",
       "      <td>0.00</td>\n",
       "      <td>0</td>\n",
       "      <td>0</td>\n",
       "    </tr>\n",
       "    <tr>\n",
       "      <th>2993313</th>\n",
       "      <td>232</td>\n",
       "      <td>CASH_OUT</td>\n",
       "      <td>1895.34</td>\n",
       "      <td>C2099985095</td>\n",
       "      <td>0.00</td>\n",
       "      <td>0.00</td>\n",
       "      <td>C1753641106</td>\n",
       "      <td>7682210.37</td>\n",
       "      <td>7684105.71</td>\n",
       "      <td>0</td>\n",
       "      <td>0</td>\n",
       "    </tr>\n",
       "    <tr>\n",
       "      <th>3245385</th>\n",
       "      <td>250</td>\n",
       "      <td>PAYMENT</td>\n",
       "      <td>14078.38</td>\n",
       "      <td>C1269472779</td>\n",
       "      <td>107288.47</td>\n",
       "      <td>93210.09</td>\n",
       "      <td>M791805623</td>\n",
       "      <td>0.00</td>\n",
       "      <td>0.00</td>\n",
       "      <td>0</td>\n",
       "      <td>0</td>\n",
       "    </tr>\n",
       "  </tbody>\n",
       "</table>\n",
       "</div>"
      ],
      "text/plain": [
       "         step      type     amount     nameOrig  oldbalanceOrg  \\\n",
       "4128255   302   CASH_IN   45747.29  C1782139167         628.00   \n",
       "2893363   228  CASH_OUT  288027.93  C2081528632           0.00   \n",
       "3680430   276   PAYMENT    7426.16  C1205936924       94263.31   \n",
       "2993313   232  CASH_OUT    1895.34  C2099985095           0.00   \n",
       "3245385   250   PAYMENT   14078.38  C1269472779      107288.47   \n",
       "\n",
       "         newbalanceOrig     nameDest  oldbalanceDest  newbalanceDest  isFraud  \\\n",
       "4128255        46375.29  C1925816201      2571666.58      2525919.29        0   \n",
       "2893363            0.00   C537655715      1001454.64      1289482.56        0   \n",
       "3680430        86837.15   M570284043            0.00            0.00        0   \n",
       "2993313            0.00  C1753641106      7682210.37      7684105.71        0   \n",
       "3245385        93210.09   M791805623            0.00            0.00        0   \n",
       "\n",
       "         isFlaggedFraud  \n",
       "4128255               0  \n",
       "2893363               0  \n",
       "3680430               0  \n",
       "2993313               0  \n",
       "3245385               0  "
      ]
     },
     "execution_count": 102,
     "metadata": {},
     "output_type": "execute_result"
    }
   ],
   "source": [
    "sample.head()"
   ]
  },
  {
   "cell_type": "code",
   "execution_count": 103,
   "metadata": {},
   "outputs": [
    {
     "data": {
      "text/plain": [
       "(100000, 11)"
      ]
     },
     "execution_count": 103,
     "metadata": {},
     "output_type": "execute_result"
    }
   ],
   "source": [
    "sample.shape"
   ]
  },
  {
   "cell_type": "code",
   "execution_count": 104,
   "metadata": {},
   "outputs": [
    {
     "data": {
      "text/plain": [
       "step                int64\n",
       "type               object\n",
       "amount            float64\n",
       "nameOrig           object\n",
       "oldbalanceOrg     float64\n",
       "newbalanceOrig    float64\n",
       "nameDest           object\n",
       "oldbalanceDest    float64\n",
       "newbalanceDest    float64\n",
       "isFraud             int64\n",
       "isFlaggedFraud      int64\n",
       "dtype: object"
      ]
     },
     "execution_count": 104,
     "metadata": {},
     "output_type": "execute_result"
    }
   ],
   "source": [
    "sample.dtypes"
   ]
  },
  {
   "cell_type": "code",
   "execution_count": 105,
   "metadata": {},
   "outputs": [
    {
     "data": {
      "text/plain": [
       "array([0])"
      ]
     },
     "execution_count": 105,
     "metadata": {},
     "output_type": "execute_result"
    }
   ],
   "source": [
    "# did not get any flagged fraud\n",
    "sample['isFlaggedFraud'].unique()"
   ]
  },
  {
   "cell_type": "code",
   "execution_count": 106,
   "metadata": {},
   "outputs": [
    {
     "data": {
      "text/plain": [
       "array([0, 1])"
      ]
     },
     "execution_count": 106,
     "metadata": {},
     "output_type": "execute_result"
    }
   ],
   "source": [
    "sample['isFraud'].unique()"
   ]
  },
  {
   "cell_type": "code",
   "execution_count": 107,
   "metadata": {},
   "outputs": [
    {
     "data": {
      "text/plain": [
       "array(['CASH_IN', 'CASH_OUT', 'PAYMENT', 'TRANSFER', 'DEBIT'],\n",
       "      dtype=object)"
      ]
     },
     "execution_count": 107,
     "metadata": {},
     "output_type": "execute_result"
    }
   ],
   "source": [
    "sample['type'].unique()"
   ]
  },
  {
   "cell_type": "code",
   "execution_count": 108,
   "metadata": {},
   "outputs": [],
   "source": [
    "# why is this taking so long??!!!\n",
    "# do not run\n",
    "#data['nameOrig'].unique().sum()"
   ]
  },
  {
   "cell_type": "code",
   "execution_count": 109,
   "metadata": {},
   "outputs": [],
   "source": [
    "# do not run\n",
    "#data['nameDest'].unique().sum()"
   ]
  },
  {
   "cell_type": "markdown",
   "metadata": {},
   "source": [
    "### What is the distribution of the outcome? "
   ]
  },
  {
   "cell_type": "code",
   "execution_count": 110,
   "metadata": {},
   "outputs": [
    {
     "data": {
      "text/plain": [
       "0    0.99878\n",
       "1    0.00122\n",
       "Name: isFraud, dtype: float64"
      ]
     },
     "execution_count": 110,
     "metadata": {},
     "output_type": "execute_result"
    }
   ],
   "source": [
    "# Outcome: isFraud\n",
    "\n",
    "count_fraud = sample['isFraud'].value_counts()\n",
    "\n",
    "count_fraud/len(sample)"
   ]
  },
  {
   "cell_type": "code",
   "execution_count": 111,
   "metadata": {},
   "outputs": [
    {
     "data": {
      "image/png": "[encoded data removed]",
      "text/plain": [
       "<Figure size 720x360 with 1 Axes>"
      ]
     },
     "metadata": {},
     "output_type": "display_data"
    }
   ],
   "source": [
    "\n",
    "x = count_fraud.index\n",
    "y = count_fraud.values\n",
    "\n",
    "f, ax = plt.subplots(figsize=(10, 5))\n",
    "\n",
    "plt.bar(x,y)\n",
    "plt.show()"
   ]
  },
  {
   "cell_type": "markdown",
   "metadata": {},
   "source": [
    "### Clean the dataset. How are you going to integrate the time variable? Do you think the step (integer) coding in which it is given is appropriate?"
   ]
  },
  {
   "cell_type": "code",
   "execution_count": 112,
   "metadata": {},
   "outputs": [
    {
     "data": {
      "text/plain": [
       "array([302, 228, 276, 232, 250, 323, 400, 354, 203,  45, 428, 426, 375,\n",
       "       230,  36, 284,  34, 255, 225,  20, 183, 254, 201, 379, 140, 347,\n",
       "       374, 191, 165, 259,  42, 188, 184, 132, 469, 281, 208, 298, 164,\n",
       "        21, 163, 131, 285, 236,   7, 398, 138, 540, 588, 134, 350,  33,\n",
       "       333, 404, 192,  16, 405, 311, 380, 490, 514, 332, 257,  19,  22,\n",
       "       439, 282, 330,  38, 162,  11, 185, 349, 133, 359, 235, 370,  13,\n",
       "       694, 139, 322, 209, 264, 160,  37, 710, 154, 308, 135, 206, 306,\n",
       "       273,  17,   9, 299,  10,  44, 251, 210, 396, 214, 227, 226, 500,\n",
       "       265, 181, 372, 376, 256, 212, 286, 355, 356, 129, 401,  35, 207,\n",
       "       205, 567,  43,  18, 395, 310, 249, 157, 180, 394, 260, 253, 690,\n",
       "       146, 307,  12, 187, 381, 329, 277, 283, 493, 304, 709, 358, 161,\n",
       "       538, 153, 348, 393, 202,  15, 346, 448,  39, 119, 137, 402, 328,\n",
       "       190, 672,  23, 229, 325, 167, 204, 321, 231, 564, 399, 373, 360,\n",
       "       179,  14, 211, 397,  40, 136, 544,  41, 309, 406,  96, 279, 692,\n",
       "       357, 215, 186, 353, 178, 695, 234, 644,  94, 324, 378, 403, 667,\n",
       "       691, 278, 492, 371, 177, 237, 688, 252, 182, 524, 156, 280, 130,\n",
       "       595, 143, 261, 565, 239, 687, 159, 305, 189, 331, 274, 258, 327,\n",
       "       213, 478, 550, 240, 548, 263, 526, 686, 155, 416,  46, 683, 590,\n",
       "       275, 345, 351, 301, 300, 571, 141, 326, 166, 546, 718, 471, 262,\n",
       "       297, 335,   8, 216, 303, 158, 382, 522, 336, 612, 585, 545,  47,\n",
       "       715, 594, 385, 617, 420, 525, 238, 573, 145, 596, 169,   4, 589,\n",
       "       649, 505,  97,   1, 518, 642, 592, 352, 313, 120, 312, 384, 377,\n",
       "       408, 495, 661, 334, 288, 144, 287, 142, 242, 233, 599, 423, 517,\n",
       "        25, 563, 570, 681, 659, 383, 705, 409,  48, 431, 466, 407, 547,\n",
       "       217, 314, 542, 551, 601, 369, 586,  95, 476, 419, 640, 168,   6,\n",
       "       637, 552, 714, 193, 656, 503, 361, 458, 597, 707, 170,  93, 664,\n",
       "       429, 569, 442, 338, 673, 528, 670, 527, 479, 472, 474, 621, 386,\n",
       "       520,  26, 684, 582, 587, 413, 598, 531, 496,  24, 608, 121, 451,\n",
       "       422, 438, 555, 455, 566, 549, 436, 619, 449, 266, 445, 241, 534,\n",
       "       289,   2, 574, 614, 646,  49, 506, 487, 630, 584, 290, 444, 194,\n",
       "         3, 362, 175, 483, 717, 615, 319, 122, 576,   5, 716, 530, 502,\n",
       "       698, 554, 610, 577, 580, 452, 578, 669,  59, 105, 199, 647, 509,\n",
       "       195, 221, 248, 171,  92, 342, 712, 675,  68, 147,  52, 468, 123,\n",
       "       475, 568, 151, 541, 152,  71, 613, 450, 497, 583, 291, 658, 103,\n",
       "        98,  63, 296, 294, 339, 344, 543, 704, 481, 198,  79,  78, 743,\n",
       "       510, 411, 460, 671, 737, 523, 602,  86])"
      ]
     },
     "execution_count": 112,
     "metadata": {},
     "output_type": "execute_result"
    }
   ],
   "source": [
    "# Step\n",
    "# Original values: maps a unit of time in the real world. \n",
    "# In this case 1 step is 1 hour of time. Total steps 744 (30 days simulation). (From Kaggle)\n",
    "\n",
    "sample['step'].unique()"
   ]
  },
  {
   "cell_type": "code",
   "execution_count": 113,
   "metadata": {},
   "outputs": [],
   "source": [
    "# turn into unit = days\n",
    "# Too many different values, will \"bin\" them into days\n",
    "# diminuir a dimensionalidade\n",
    "\n",
    "sample['step'] = (sample['step']/24).astype(int)\n"
   ]
  },
  {
   "cell_type": "code",
   "execution_count": 114,
   "metadata": {},
   "outputs": [
    {
     "data": {
      "text/plain": [
       "array([12,  9, 11, 10, 13, 16, 14,  8,  1, 17, 15,  0,  7,  5,  6, 19, 22,\n",
       "       24, 20, 21, 18, 28, 29, 23,  4, 26,  3, 27, 25,  2, 30])"
      ]
     },
     "execution_count": 114,
     "metadata": {},
     "output_type": "execute_result"
    }
   ],
   "source": [
    "# New values\n",
    "\n",
    "sample['step'].unique()"
   ]
  },
  {
   "cell_type": "code",
   "execution_count": 115,
   "metadata": {},
   "outputs": [],
   "source": [
    "# drop two categorical variables with too many unique values\n",
    "# will keep type\n",
    "\n",
    "sample.drop(['nameOrig', 'nameDest'], axis=1, inplace=True)"
   ]
  },
  {
   "cell_type": "code",
   "execution_count": 116,
   "metadata": {},
   "outputs": [],
   "source": [
    "# drop 'isFlaggedFraud' - is downstream from isFraud\n",
    "sample.drop(['isFlaggedFraud'], axis=1, inplace=True)"
   ]
  },
  {
   "cell_type": "code",
   "execution_count": 117,
   "metadata": {},
   "outputs": [
    {
     "data": {
      "text/plain": [
       "Index(['step', 'type', 'amount', 'oldbalanceOrg', 'newbalanceOrig',\n",
       "       'oldbalanceDest', 'newbalanceDest', 'isFraud'],\n",
       "      dtype='object')"
      ]
     },
     "execution_count": 117,
     "metadata": {},
     "output_type": "execute_result"
    }
   ],
   "source": [
    "# check if it worked\n",
    "sample.columns"
   ]
  },
  {
   "cell_type": "code",
   "execution_count": 118,
   "metadata": {},
   "outputs": [
    {
     "data": {
      "text/plain": [
       "step              0\n",
       "type              0\n",
       "amount            0\n",
       "oldbalanceOrg     0\n",
       "newbalanceOrig    0\n",
       "oldbalanceDest    0\n",
       "newbalanceDest    0\n",
       "isFraud           0\n",
       "dtype: int64"
      ]
     },
     "execution_count": 118,
     "metadata": {},
     "output_type": "execute_result"
    }
   ],
   "source": [
    "# check for NaNs\n",
    "\n",
    "sample.isna().sum()"
   ]
  },
  {
   "cell_type": "code",
   "execution_count": 119,
   "metadata": {},
   "outputs": [
    {
     "data": {
      "text/html": [
       "<div>\n",
       "<style scoped>\n",
       "    .dataframe tbody tr th:only-of-type {\n",
       "        vertical-align: middle;\n",
       "    }\n",
       "\n",
       "    .dataframe tbody tr th {\n",
       "        vertical-align: top;\n",
       "    }\n",
       "\n",
       "    .dataframe thead th {\n",
       "        text-align: right;\n",
       "    }\n",
       "</style>\n",
       "<table border=\"1\" class=\"dataframe\">\n",
       "  <thead>\n",
       "    <tr style=\"text-align: right;\">\n",
       "      <th></th>\n",
       "      <th>step</th>\n",
       "      <th>amount</th>\n",
       "      <th>oldbalanceOrg</th>\n",
       "      <th>newbalanceOrig</th>\n",
       "      <th>oldbalanceDest</th>\n",
       "      <th>newbalanceDest</th>\n",
       "      <th>isFraud</th>\n",
       "      <th>type_CASH_IN</th>\n",
       "      <th>type_CASH_OUT</th>\n",
       "      <th>type_DEBIT</th>\n",
       "      <th>type_PAYMENT</th>\n",
       "      <th>type_TRANSFER</th>\n",
       "    </tr>\n",
       "  </thead>\n",
       "  <tbody>\n",
       "    <tr>\n",
       "      <th>4128255</th>\n",
       "      <td>12</td>\n",
       "      <td>45747.29</td>\n",
       "      <td>628.00</td>\n",
       "      <td>46375.29</td>\n",
       "      <td>2571666.58</td>\n",
       "      <td>2525919.29</td>\n",
       "      <td>0</td>\n",
       "      <td>1</td>\n",
       "      <td>0</td>\n",
       "      <td>0</td>\n",
       "      <td>0</td>\n",
       "      <td>0</td>\n",
       "    </tr>\n",
       "    <tr>\n",
       "      <th>2893363</th>\n",
       "      <td>9</td>\n",
       "      <td>288027.93</td>\n",
       "      <td>0.00</td>\n",
       "      <td>0.00</td>\n",
       "      <td>1001454.64</td>\n",
       "      <td>1289482.56</td>\n",
       "      <td>0</td>\n",
       "      <td>0</td>\n",
       "      <td>1</td>\n",
       "      <td>0</td>\n",
       "      <td>0</td>\n",
       "      <td>0</td>\n",
       "    </tr>\n",
       "    <tr>\n",
       "      <th>3680430</th>\n",
       "      <td>11</td>\n",
       "      <td>7426.16</td>\n",
       "      <td>94263.31</td>\n",
       "      <td>86837.15</td>\n",
       "      <td>0.00</td>\n",
       "      <td>0.00</td>\n",
       "      <td>0</td>\n",
       "      <td>0</td>\n",
       "      <td>0</td>\n",
       "      <td>0</td>\n",
       "      <td>1</td>\n",
       "      <td>0</td>\n",
       "    </tr>\n",
       "    <tr>\n",
       "      <th>2993313</th>\n",
       "      <td>9</td>\n",
       "      <td>1895.34</td>\n",
       "      <td>0.00</td>\n",
       "      <td>0.00</td>\n",
       "      <td>7682210.37</td>\n",
       "      <td>7684105.71</td>\n",
       "      <td>0</td>\n",
       "      <td>0</td>\n",
       "      <td>1</td>\n",
       "      <td>0</td>\n",
       "      <td>0</td>\n",
       "      <td>0</td>\n",
       "    </tr>\n",
       "    <tr>\n",
       "      <th>3245385</th>\n",
       "      <td>10</td>\n",
       "      <td>14078.38</td>\n",
       "      <td>107288.47</td>\n",
       "      <td>93210.09</td>\n",
       "      <td>0.00</td>\n",
       "      <td>0.00</td>\n",
       "      <td>0</td>\n",
       "      <td>0</td>\n",
       "      <td>0</td>\n",
       "      <td>0</td>\n",
       "      <td>1</td>\n",
       "      <td>0</td>\n",
       "    </tr>\n",
       "  </tbody>\n",
       "</table>\n",
       "</div>"
      ],
      "text/plain": [
       "         step     amount  oldbalanceOrg  newbalanceOrig  oldbalanceDest  \\\n",
       "4128255    12   45747.29         628.00        46375.29      2571666.58   \n",
       "2893363     9  288027.93           0.00            0.00      1001454.64   \n",
       "3680430    11    7426.16       94263.31        86837.15            0.00   \n",
       "2993313     9    1895.34           0.00            0.00      7682210.37   \n",
       "3245385    10   14078.38      107288.47        93210.09            0.00   \n",
       "\n",
       "         newbalanceDest  isFraud  type_CASH_IN  type_CASH_OUT  type_DEBIT  \\\n",
       "4128255      2525919.29        0             1              0           0   \n",
       "2893363      1289482.56        0             0              1           0   \n",
       "3680430            0.00        0             0              0           0   \n",
       "2993313      7684105.71        0             0              1           0   \n",
       "3245385            0.00        0             0              0           0   \n",
       "\n",
       "         type_PAYMENT  type_TRANSFER  \n",
       "4128255             0              0  \n",
       "2893363             0              0  \n",
       "3680430             1              0  \n",
       "2993313             0              0  \n",
       "3245385             1              0  "
      ]
     },
     "execution_count": 119,
     "metadata": {},
     "output_type": "execute_result"
    }
   ],
   "source": [
    "# turn type into a numerical\n",
    "\n",
    "# returns whole data set, categorical variables turned into ordinal data with dummies\n",
    "# did it automatically drop the type column?\n",
    "sample_dummy = pd.get_dummies(sample)\n",
    "sample_dummy.head()"
   ]
  },
  {
   "cell_type": "code",
   "execution_count": 121,
   "metadata": {},
   "outputs": [
    {
     "data": {
      "text/plain": [
       "step                int64\n",
       "amount            float64\n",
       "oldbalanceOrg     float64\n",
       "newbalanceOrig    float64\n",
       "oldbalanceDest    float64\n",
       "newbalanceDest    float64\n",
       "isFraud             int64\n",
       "type_CASH_IN        uint8\n",
       "type_CASH_OUT       uint8\n",
       "type_DEBIT          uint8\n",
       "type_PAYMENT        uint8\n",
       "type_TRANSFER       uint8\n",
       "dtype: object"
      ]
     },
     "execution_count": 121,
     "metadata": {},
     "output_type": "execute_result"
    }
   ],
   "source": [
    "sample_dummy.dtypes"
   ]
  },
  {
   "cell_type": "code",
   "execution_count": 122,
   "metadata": {},
   "outputs": [
    {
     "data": {
      "image/png": "[encoded data removed]",
      "text/plain": [
       "<Figure size 792x648 with 2 Axes>"
      ]
     },
     "metadata": {},
     "output_type": "display_data"
    }
   ],
   "source": [
    "# Heatmap\n",
    "\n",
    "# check with multilinear\n",
    "corr = sample_dummy.corr(method='spearman')\n",
    "\n",
    "sns.set(style=\"white\")\n",
    "\n",
    "# Generate a mask for the upper triangle\n",
    "mask = np.triu(np.ones_like(corr, dtype=np.bool))\n",
    "\n",
    "# Set up the matplotlib figure\n",
    "f, ax = plt.subplots(figsize=(11, 9))\n",
    "\n",
    "# Generate a custom diverging colormap\n",
    "cmap = sns.diverging_palette(220, 10, as_cmap=True)\n",
    "\n",
    "# annot=True so as to show the value\n",
    "# Draw the heatmap with the mask and correct aspect ratio\n",
    "# vmin=-1, vmax=1 gets the whole scale\n",
    "sns.heatmap(corr, mask=mask, cmap=cmap, vmin=-1, vmax=1, center=0,\n",
    "             square=True, annot=True, linewidths=.5, cbar_kws={\"shrink\": .5})\n",
    "\n",
    "plt.show()"
   ]
  },
  {
   "cell_type": "code",
   "execution_count": 123,
   "metadata": {},
   "outputs": [],
   "source": [
    "# will drop: \n",
    "# 1. 'newbalanceOrig' (high collinearity with 'oldbalanceOrg', reason to think it's the same information \n",
    "# given in two different ways)\n",
    "# 2. 'newbalanceDest' (high collinearity with 'oldbalanceDest', also reason to think it's the same information\n",
    "# given in two different ways)\n",
    "\n",
    "sample_dummy.drop(['newbalanceOrig', 'newbalanceDest'], axis=1, inplace=True)"
   ]
  },
  {
   "cell_type": "code",
   "execution_count": 124,
   "metadata": {},
   "outputs": [
    {
     "data": {
      "text/plain": [
       "Index(['step', 'amount', 'oldbalanceOrg', 'oldbalanceDest', 'isFraud',\n",
       "       'type_CASH_IN', 'type_CASH_OUT', 'type_DEBIT', 'type_PAYMENT',\n",
       "       'type_TRANSFER'],\n",
       "      dtype='object')"
      ]
     },
     "execution_count": 124,
     "metadata": {},
     "output_type": "execute_result"
    }
   ],
   "source": [
    "sample_dummy.columns"
   ]
  },
  {
   "cell_type": "code",
   "execution_count": 125,
   "metadata": {},
   "outputs": [
    {
     "data": {
      "image/png": "[encoded data removed]",
      "text/plain": [
       "<Figure size 792x648 with 2 Axes>"
      ]
     },
     "metadata": {},
     "output_type": "display_data"
    }
   ],
   "source": [
    "# Heatmap\n",
    "\n",
    "# check with multilinear\n",
    "corr = sample_dummy.corr(method='spearman')\n",
    "\n",
    "sns.set(style=\"white\")\n",
    "\n",
    "# Generate a mask for the upper triangle\n",
    "mask = np.triu(np.ones_like(corr, dtype=np.bool))\n",
    "\n",
    "# Set up the matplotlib figure\n",
    "f, ax = plt.subplots(figsize=(11, 9))\n",
    "\n",
    "# Generate a custom diverging colormap\n",
    "cmap = sns.diverging_palette(220, 10, as_cmap=True)\n",
    "\n",
    "# annot=True so as to show the value\n",
    "# Draw the heatmap with the mask and correct aspect ratio\n",
    "# vmin=-1, vmax=1 gets the whole scale\n",
    "sns.heatmap(corr, mask=mask, cmap=cmap, vmin=-1, vmax=1, center=0,\n",
    "             square=True, annot=True, linewidths=.5, cbar_kws={\"shrink\": .5})\n",
    "\n",
    "plt.show()"
   ]
  },
  {
   "cell_type": "markdown",
   "metadata": {},
   "source": [
    "### Run a logistic regression classifier and evaluate its accuracy."
   ]
  },
  {
   "cell_type": "code",
   "execution_count": 128,
   "metadata": {},
   "outputs": [],
   "source": [
    "# let's separate the dataframe into features and target\n",
    "\n",
    "X = sample_dummy.drop(['isFraud'], axis =1) # features\n",
    "y = sample_dummy['isFraud'] # target\n",
    "\n",
    "# splitting the data to train and test\n",
    "from sklearn.model_selection import train_test_split\n",
    "X_train, X_test, y_train, y_test = train_test_split(X, y, test_size = 0.2, random_state=0)\n"
   ]
  },
  {
   "cell_type": "code",
   "execution_count": 129,
   "metadata": {},
   "outputs": [
    {
     "name": "stdout",
     "output_type": "stream",
     "text": [
      "Confusion matrix\n",
      "[[19980    20]\n",
      " [    0     0]]\n",
      "-------------------------------------------------------\n",
      "Accuracy score\n",
      "0.999\n",
      "-------------------------------------------------------\n",
      "Classification report\n",
      "              precision    recall  f1-score   support\n",
      "\n",
      "           0       1.00      1.00      1.00     20000\n",
      "           1       0.00      0.00      0.00         0\n",
      "\n",
      "    accuracy                           1.00     20000\n",
      "   macro avg       0.50      0.50      0.50     20000\n",
      "weighted avg       1.00      1.00      1.00     20000\n",
      "\n"
     ]
    },
    {
     "name": "stderr",
     "output_type": "stream",
     "text": [
      "/opt/anaconda3/lib/python3.7/site-packages/sklearn/metrics/_classification.py:1272: UndefinedMetricWarning: Recall and F-score are ill-defined and being set to 0.0 in labels with no true samples. Use `zero_division` parameter to control this behavior.\n",
      "  _warn_prf(average, modifier, msg_start, len(result))\n"
     ]
    }
   ],
   "source": [
    "from sklearn.linear_model import LogisticRegression\n",
    "\n",
    "# Initialize model and define hyperparameters\n",
    "model = LogisticRegression(max_iter=2000)\n",
    "\n",
    "# max_iter=2000 above avoids error message (max number of interations reached)\n",
    "# if max number of interations reached, we may not reach the best model\n",
    "\n",
    "# here we train the model\n",
    "model.fit(X_train, y_train)\n",
    "from sklearn.metrics import confusion_matrix, accuracy_score, classification_report\n",
    "\n",
    "#predictions: test data\n",
    "y_pred = model.predict(X_test)\n",
    "\n",
    "# compare predictions to actual answers\n",
    "print('Confusion matrix')\n",
    "print(confusion_matrix(y_pred,y_test))\n",
    "print('-------------------------------------------------------')\n",
    "\n",
    "# accuracy_score\n",
    "# fitted X_test data vs. y_test data (actual answer)\n",
    "print('Accuracy score')\n",
    "print(accuracy_score(y_pred,y_test))\n",
    "\n",
    "print('-------------------------------------------------------')\n",
    "# classification report\n",
    "print('Classification report')\n",
    "print(classification_report(y_pred,y_test))"
   ]
  },
  {
   "cell_type": "markdown",
   "metadata": {},
   "source": [
    "### Now pick a model of your choice and evaluate its accuracy."
   ]
  },
  {
   "cell_type": "code",
   "execution_count": 138,
   "metadata": {},
   "outputs": [
    {
     "name": "stdout",
     "output_type": "stream",
     "text": [
      "Confusion matrix\n",
      "[[19968    11]\n",
      " [   12     9]]\n",
      "-------------------------------------------------------\n",
      "Accuracy score\n",
      "0.99885\n",
      "-------------------------------------------------------\n",
      "Classification report\n",
      "              precision    recall  f1-score   support\n",
      "\n",
      "           0       1.00      1.00      1.00     19979\n",
      "           1       0.45      0.43      0.44        21\n",
      "\n",
      "    accuracy                           1.00     20000\n",
      "   macro avg       0.72      0.71      0.72     20000\n",
      "weighted avg       1.00      1.00      1.00     20000\n",
      "\n"
     ]
    }
   ],
   "source": [
    "# let's do a decision tree\n",
    "\n",
    "# import model\n",
    "from sklearn.tree import DecisionTreeClassifier\n",
    "\n",
    "# create instance of the model\n",
    "dtc = DecisionTreeClassifier()\n",
    "\n",
    "# train the model\n",
    "dtc.fit(X_train, y_train)\n",
    "\n",
    "#predictions: test data\n",
    "y_pred = dtc.predict(X_test)\n",
    "\n",
    "# compare predictions to actual answers\n",
    "print('Confusion matrix')\n",
    "print(confusion_matrix(y_pred,y_test))\n",
    "print('-------------------------------------------------------')\n",
    "\n",
    "# accuracy_score\n",
    "# fitted X_test data vs. y_test data (actual answer)\n",
    "print('Accuracy score')\n",
    "print(accuracy_score(y_pred,y_test))\n",
    "\n",
    "print('-------------------------------------------------------')\n",
    "# classification report\n",
    "print('Classification report')\n",
    "print(classification_report(y_pred,y_test))"
   ]
  },
  {
   "cell_type": "code",
   "execution_count": 153,
   "metadata": {},
   "outputs": [
    {
     "name": "stdout",
     "output_type": "stream",
     "text": [
      "Confusion matrix\n",
      "[[19979    12]\n",
      " [    1     8]]\n",
      "-------------------------------------------------------\n",
      "Accuracy score\n",
      "0.99935\n",
      "-------------------------------------------------------\n",
      "Classification report\n",
      "              precision    recall  f1-score   support\n",
      "\n",
      "           0       1.00      1.00      1.00     19991\n",
      "           1       0.40      0.89      0.55         9\n",
      "\n",
      "    accuracy                           1.00     20000\n",
      "   macro avg       0.70      0.94      0.78     20000\n",
      "weighted avg       1.00      1.00      1.00     20000\n",
      "\n"
     ]
    }
   ],
   "source": [
    "# Random forest\n",
    "\n",
    "from sklearn.ensemble import RandomForestClassifier\n",
    "#from sklearn.linear_model import ridge_regression\n",
    "\n",
    "# create an instance of the model\n",
    "forest = RandomForestClassifier()\n",
    "\n",
    "# fit the model\n",
    "forest.fit(X_train, y_train)\n",
    "\n",
    "# predict for test \n",
    "y_pred = forest.predict(X_test)\n",
    "\n",
    "# compare predictions to actual answers\n",
    "print('Confusion matrix')\n",
    "print(confusion_matrix(y_pred,y_test))\n",
    "print('-------------------------------------------------------')\n",
    "\n",
    "# accuracy_score\n",
    "# fitted X_test data vs. y_test data (actual answers)\n",
    "print('Accuracy score')\n",
    "print(forest.score(X_test,y_test))\n",
    "#print(accuracy_score(y_pred,y_test)) does the exact same thing as forest.score(X_test,y_test)\n",
    "print('-------------------------------------------------------')\n",
    "\n",
    "# classification report\n",
    "print('Classification report')\n",
    "print(classification_report(y_pred,y_test)) \n",
    "\n",
    "# https://medium.com/analytics-vidhya/evaluating-a-random-forest-model-9d165595ad56"
   ]
  },
  {
   "cell_type": "code",
   "execution_count": 155,
   "metadata": {},
   "outputs": [
    {
     "data": {
      "text/plain": [
       "1    102\n",
       "0    102\n",
       "Name: isFraud, dtype: int64"
      ]
     },
     "execution_count": 155,
     "metadata": {},
     "output_type": "execute_result"
    }
   ],
   "source": [
    "# let's do some undersampling\n",
    "\n",
    "from sklearn.utils import resample\n",
    "\n",
    "# separate input features and target\n",
    "X = sample_dummy.drop(['isFraud'], axis =1) # features\n",
    "y = sample_dummy['isFraud'] # target\n",
    "\n",
    "#split into training and testing subsets\n",
    "X_train, X_test, y_train, y_test = train_test_split(X, y, test_size = 0.2, random_state=0)\n",
    "\n",
    "# concatenate training data back together\n",
    "X = pd.concat([X_train, y_train], axis=1)\n",
    "\n",
    "# separate majority and minority classes\n",
    "not_fraud = X[X.isFraud == 0]\n",
    "fraud = X[X.isFraud == 1]\n",
    "\n",
    "#downsample majority\n",
    "not_fraud_downsampled = resample(not_fraud,\n",
    "                                replace=False, # sample without replacemente\n",
    "                                n_samples=len(fraud), # match minority n\n",
    "                                random_state=0) #reproducible results\n",
    "\n",
    "# combine minority and downsampled majority\n",
    "downsampled = pd.concat([not_fraud_downsampled, fraud])\n",
    "\n",
    "# check results\n",
    "downsampled['isFraud'].value_counts()"
   ]
  },
  {
   "cell_type": "code",
   "execution_count": 156,
   "metadata": {},
   "outputs": [
    {
     "name": "stdout",
     "output_type": "stream",
     "text": [
      "Confusion matrix\n",
      "[[23  1]\n",
      " [ 0 17]]\n",
      "-------------------------------------------------------\n",
      "Accuracy score\n",
      "0.975609756097561\n",
      "-------------------------------------------------------\n",
      "Classification report\n",
      "              precision    recall  f1-score   support\n",
      "\n",
      "           0       1.00      0.96      0.98        24\n",
      "           1       0.94      1.00      0.97        17\n",
      "\n",
      "    accuracy                           0.98        41\n",
      "   macro avg       0.97      0.98      0.98        41\n",
      "weighted avg       0.98      0.98      0.98        41\n",
      "\n"
     ]
    }
   ],
   "source": [
    "# Now let's run the model with downsampling\n",
    "\n",
    "# separate input features and target\n",
    "X = downsampled.drop(['isFraud'], axis=1) # features\n",
    "y = downsampled['isFraud'] # target\n",
    "\n",
    "#split into training and testing subsets\n",
    "X_train, X_test, y_train, y_test = train_test_split(X, y, test_size = 0.2, random_state=0)\n",
    "\n",
    "# create an instance of the model\n",
    "forest = RandomForestClassifier()\n",
    "\n",
    "# fit the model\n",
    "forest.fit(X_train, y_train)\n",
    "\n",
    "# predict for test data\n",
    "y_pred = forest.predict(X_test)\n",
    "\n",
    "# compare predictions to actual answers\n",
    "print('Confusion matrix')\n",
    "print(confusion_matrix(y_pred,y_test))\n",
    "print('-------------------------------------------------------')\n",
    "\n",
    "# accuracy_score\n",
    "# fitted X_test data vs. y_test data (actual answers)\n",
    "print('Accuracy score')\n",
    "print(forest.score(X_test,y_test))\n",
    "#print(accuracy_score(y_pred,y_test)) does the exact same thing as forest.score(X_test,y_test)\n",
    "print('-------------------------------------------------------')\n",
    "\n",
    "# classification report\n",
    "print('Classification report')\n",
    "print(classification_report(y_pred,y_test)) "
   ]
  },
  {
   "cell_type": "markdown",
   "metadata": {},
   "source": [
    "### Which model worked better and how do you know?"
   ]
  },
  {
   "cell_type": "code",
   "execution_count": 2,
   "metadata": {},
   "outputs": [],
   "source": [
    "# Your response here\n",
    "\n",
    "# Random Forest with downsampling had very good results, especially wrt recall of fraudulent transactions\n",
    "\n",
    "# Even without downsampling, Random Forest had better results than Logistic Regression and Decision Tree Classifier"
   ]
  },
  {
   "cell_type": "markdown",
   "metadata": {},
   "source": [
    "### Note: before doing the first commit, make sure you don't include the large csv file, either by adding it to .gitignore, or by deleting it."
   ]
  }
 ],
 "metadata": {
  "kernelspec": {
   "display_name": "Python 3",
   "language": "python",
   "name": "python3"
  },
  "language_info": {
   "codemirror_mode": {
    "name": "ipython",
    "version": 3
   },
   "file_extension": ".py",
   "mimetype": "text/x-python",
   "name": "python",
   "nbconvert_exporter": "python",
   "pygments_lexer": "ipython3",
   "version": "3.7.6"
  }
 },
 "nbformat": 4,
 "nbformat_minor": 2
}
