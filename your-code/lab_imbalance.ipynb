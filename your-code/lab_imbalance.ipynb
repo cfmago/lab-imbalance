{
 "cells": [
  {
   "cell_type": "markdown",
   "metadata": {},
   "source": [
    "# Inbalanced Classes\n",
    "## In this lab, we are going to explore a case of imbalanced classes. \n",
    "\n",
    "\n",
    "Like we discussed in class, when we have noisy data, if we are not careful, we can end up fitting our model to the noise in the data and not the 'signal'-- the factors that actually determine the outcome. This is called overfitting, and results in good results in training, and in bad results when the model is applied to real data. Similarly, we could have a model that is too simplistic to accurately model the signal (underfitting). This produces a model that doesnt work well (ever). \n"
   ]
  },
  {
   "cell_type": "markdown",
   "metadata": {},
   "source": [
    "### Note: before doing the first commit, make sure you don't include the large csv file, either by adding it to .gitignore, or by deleting it."
   ]
  },
  {
   "cell_type": "markdown",
   "metadata": {},
   "source": [
    "### First, download the data from: https://www.kaggle.com/ntnu-testimon/paysim1. Import the dataset and provide some discriptive statistics and plots. What do you think will be the important features in determining the outcome?\n",
    "### Note: don't use the entire dataset, use a sample instead, with n=100000 elements, so your computer doesn't freeze."
   ]
  },
  {
   "cell_type": "code",
   "execution_count": 1,
   "metadata": {},
   "outputs": [],
   "source": [
    "# Your code here\n",
    "import pandas as pd\n",
    "import numpy as np\n",
    "import matplotlib.pyplot as plt\n",
    "import seaborn as sns\n"
   ]
  },
  {
   "cell_type": "code",
   "execution_count": 4,
   "metadata": {},
   "outputs": [],
   "source": [
    "#import dataset\n",
    "\n",
    "data = pd.read_csv('../PS_20174392719_1491204439457_log.csv')\n"
   ]
  },
  {
   "cell_type": "code",
   "execution_count": 5,
   "metadata": {},
   "outputs": [],
   "source": [
    "# get sample from data\n",
    "\n",
    "sample = data.sample(n=100000)"
   ]
  },
  {
   "cell_type": "code",
   "execution_count": 6,
   "metadata": {},
   "outputs": [],
   "source": [
    "sample.to_csv('../sample.csv')"
   ]
  },
  {
   "cell_type": "code",
   "execution_count": 7,
   "metadata": {},
   "outputs": [],
   "source": [
    "sample = pd.read_csv('../sample.csv')"
   ]
  },
  {
   "cell_type": "code",
   "execution_count": 8,
   "metadata": {},
   "outputs": [
    {
     "data": {
      "text/html": [
       "<div>\n",
       "<style scoped>\n",
       "    .dataframe tbody tr th:only-of-type {\n",
       "        vertical-align: middle;\n",
       "    }\n",
       "\n",
       "    .dataframe tbody tr th {\n",
       "        vertical-align: top;\n",
       "    }\n",
       "\n",
       "    .dataframe thead th {\n",
       "        text-align: right;\n",
       "    }\n",
       "</style>\n",
       "<table border=\"1\" class=\"dataframe\">\n",
       "  <thead>\n",
       "    <tr style=\"text-align: right;\">\n",
       "      <th></th>\n",
       "      <th>Unnamed: 0</th>\n",
       "      <th>step</th>\n",
       "      <th>type</th>\n",
       "      <th>amount</th>\n",
       "      <th>nameOrig</th>\n",
       "      <th>oldbalanceOrg</th>\n",
       "      <th>newbalanceOrig</th>\n",
       "      <th>nameDest</th>\n",
       "      <th>oldbalanceDest</th>\n",
       "      <th>newbalanceDest</th>\n",
       "      <th>isFraud</th>\n",
       "      <th>isFlaggedFraud</th>\n",
       "    </tr>\n",
       "  </thead>\n",
       "  <tbody>\n",
       "    <tr>\n",
       "      <th>0</th>\n",
       "      <td>3216374</td>\n",
       "      <td>249</td>\n",
       "      <td>CASH_OUT</td>\n",
       "      <td>74390.34</td>\n",
       "      <td>C1579862536</td>\n",
       "      <td>106019.0</td>\n",
       "      <td>31628.66</td>\n",
       "      <td>C1395254081</td>\n",
       "      <td>22034.00</td>\n",
       "      <td>0.00</td>\n",
       "      <td>0</td>\n",
       "      <td>0</td>\n",
       "    </tr>\n",
       "    <tr>\n",
       "      <th>1</th>\n",
       "      <td>6148821</td>\n",
       "      <td>546</td>\n",
       "      <td>CASH_IN</td>\n",
       "      <td>198046.01</td>\n",
       "      <td>C878219353</td>\n",
       "      <td>49655.0</td>\n",
       "      <td>247701.01</td>\n",
       "      <td>C1584169449</td>\n",
       "      <td>37475.12</td>\n",
       "      <td>0.00</td>\n",
       "      <td>0</td>\n",
       "      <td>0</td>\n",
       "    </tr>\n",
       "    <tr>\n",
       "      <th>2</th>\n",
       "      <td>4254948</td>\n",
       "      <td>306</td>\n",
       "      <td>CASH_IN</td>\n",
       "      <td>520602.03</td>\n",
       "      <td>C1774844620</td>\n",
       "      <td>56113.0</td>\n",
       "      <td>576715.03</td>\n",
       "      <td>C1421257628</td>\n",
       "      <td>165384.44</td>\n",
       "      <td>0.00</td>\n",
       "      <td>0</td>\n",
       "      <td>0</td>\n",
       "    </tr>\n",
       "    <tr>\n",
       "      <th>3</th>\n",
       "      <td>5930786</td>\n",
       "      <td>404</td>\n",
       "      <td>CASH_OUT</td>\n",
       "      <td>91118.35</td>\n",
       "      <td>C2106079390</td>\n",
       "      <td>16620.0</td>\n",
       "      <td>0.00</td>\n",
       "      <td>C1302037827</td>\n",
       "      <td>2016905.18</td>\n",
       "      <td>2108023.53</td>\n",
       "      <td>0</td>\n",
       "      <td>0</td>\n",
       "    </tr>\n",
       "    <tr>\n",
       "      <th>4</th>\n",
       "      <td>2936025</td>\n",
       "      <td>229</td>\n",
       "      <td>PAYMENT</td>\n",
       "      <td>799.27</td>\n",
       "      <td>C997280206</td>\n",
       "      <td>61608.0</td>\n",
       "      <td>60808.73</td>\n",
       "      <td>M594193738</td>\n",
       "      <td>0.00</td>\n",
       "      <td>0.00</td>\n",
       "      <td>0</td>\n",
       "      <td>0</td>\n",
       "    </tr>\n",
       "  </tbody>\n",
       "</table>\n",
       "</div>"
      ],
      "text/plain": [
       "   Unnamed: 0  step      type     amount     nameOrig  oldbalanceOrg  \\\n",
       "0     3216374   249  CASH_OUT   74390.34  C1579862536       106019.0   \n",
       "1     6148821   546   CASH_IN  198046.01   C878219353        49655.0   \n",
       "2     4254948   306   CASH_IN  520602.03  C1774844620        56113.0   \n",
       "3     5930786   404  CASH_OUT   91118.35  C2106079390        16620.0   \n",
       "4     2936025   229   PAYMENT     799.27   C997280206        61608.0   \n",
       "\n",
       "   newbalanceOrig     nameDest  oldbalanceDest  newbalanceDest  isFraud  \\\n",
       "0        31628.66  C1395254081        22034.00            0.00        0   \n",
       "1       247701.01  C1584169449        37475.12            0.00        0   \n",
       "2       576715.03  C1421257628       165384.44            0.00        0   \n",
       "3            0.00  C1302037827      2016905.18      2108023.53        0   \n",
       "4        60808.73   M594193738            0.00            0.00        0   \n",
       "\n",
       "   isFlaggedFraud  \n",
       "0               0  \n",
       "1               0  \n",
       "2               0  \n",
       "3               0  \n",
       "4               0  "
      ]
     },
     "execution_count": 8,
     "metadata": {},
     "output_type": "execute_result"
    }
   ],
   "source": [
    "sample.head()"
   ]
  },
  {
   "cell_type": "code",
   "execution_count": 9,
   "metadata": {},
   "outputs": [
    {
     "data": {
      "text/plain": [
       "(100000, 12)"
      ]
     },
     "execution_count": 9,
     "metadata": {},
     "output_type": "execute_result"
    }
   ],
   "source": [
    "sample.shape"
   ]
  },
  {
   "cell_type": "code",
   "execution_count": 10,
   "metadata": {},
   "outputs": [
    {
     "data": {
      "text/plain": [
       "Unnamed: 0          int64\n",
       "step                int64\n",
       "type               object\n",
       "amount            float64\n",
       "nameOrig           object\n",
       "oldbalanceOrg     float64\n",
       "newbalanceOrig    float64\n",
       "nameDest           object\n",
       "oldbalanceDest    float64\n",
       "newbalanceDest    float64\n",
       "isFraud             int64\n",
       "isFlaggedFraud      int64\n",
       "dtype: object"
      ]
     },
     "execution_count": 10,
     "metadata": {},
     "output_type": "execute_result"
    }
   ],
   "source": [
    "sample.dtypes"
   ]
  },
  {
   "cell_type": "code",
   "execution_count": 11,
   "metadata": {},
   "outputs": [
    {
     "data": {
      "text/plain": [
       "array([0])"
      ]
     },
     "execution_count": 11,
     "metadata": {},
     "output_type": "execute_result"
    }
   ],
   "source": [
    "# did not get any flagged fraud\n",
    "sample['isFlaggedFraud'].unique()"
   ]
  },
  {
   "cell_type": "code",
   "execution_count": 12,
   "metadata": {},
   "outputs": [
    {
     "data": {
      "text/plain": [
       "array([0, 1])"
      ]
     },
     "execution_count": 12,
     "metadata": {},
     "output_type": "execute_result"
    }
   ],
   "source": [
    "sample['isFraud'].unique()"
   ]
  },
  {
   "cell_type": "code",
   "execution_count": 13,
   "metadata": {},
   "outputs": [
    {
     "data": {
      "text/plain": [
       "array(['CASH_OUT', 'CASH_IN', 'PAYMENT', 'TRANSFER', 'DEBIT'],\n",
       "      dtype=object)"
      ]
     },
     "execution_count": 13,
     "metadata": {},
     "output_type": "execute_result"
    }
   ],
   "source": [
    "sample['type'].unique()"
   ]
  },
  {
   "cell_type": "code",
   "execution_count": null,
   "metadata": {},
   "outputs": [],
   "source": [
    "# why is this taking so long??!!!\n",
    "# do not run\n",
    "#data['nameOrig'].unique().sum()"
   ]
  },
  {
   "cell_type": "code",
   "execution_count": null,
   "metadata": {},
   "outputs": [],
   "source": [
    "# do not run\n",
    "#data['nameDest'].unique().sum()"
   ]
  },
  {
   "cell_type": "markdown",
   "metadata": {},
   "source": [
    "### What is the distribution of the outcome? "
   ]
  },
  {
   "cell_type": "code",
   "execution_count": 14,
   "metadata": {},
   "outputs": [
    {
     "data": {
      "text/plain": [
       "0    0.99862\n",
       "1    0.00138\n",
       "Name: isFraud, dtype: float64"
      ]
     },
     "execution_count": 14,
     "metadata": {},
     "output_type": "execute_result"
    }
   ],
   "source": [
    "# Outcome: isFraud\n",
    "\n",
    "count_fraud = sample['isFraud'].value_counts()\n",
    "\n",
    "count_fraud/len(sample)"
   ]
  },
  {
   "cell_type": "code",
   "execution_count": 15,
   "metadata": {},
   "outputs": [
    {
     "data": {
      "image/png": "[encoded data removed]",
      "text/plain": [
       "<Figure size 720x360 with 1 Axes>"
      ]
     },
     "metadata": {
      "needs_background": "light"
     },
     "output_type": "display_data"
    }
   ],
   "source": [
    "\n",
    "x = count_fraud.index\n",
    "y = count_fraud.values\n",
    "\n",
    "f, ax = plt.subplots(figsize=(10, 5))\n",
    "\n",
    "plt.bar(x,y)\n",
    "plt.show()"
   ]
  },
  {
   "cell_type": "markdown",
   "metadata": {},
   "source": [
    "### Clean the dataset. How are you going to integrate the time variable? Do you think the step (integer) coding in which it is given is appropriate?"
   ]
  },
  {
   "cell_type": "code",
   "execution_count": 16,
   "metadata": {},
   "outputs": [
    {
     "data": {
      "text/plain": [
       "array([249, 546, 306, 404, 229,  39, 379, 256, 335, 134, 205, 279, 372,\n",
       "       163, 278,  36, 184, 235, 157, 349, 181, 332, 301, 183, 277, 225,\n",
       "        11, 397, 329, 131, 254, 375, 139, 236, 307, 688, 154, 395,  20,\n",
       "       333, 325, 354, 324, 265, 211, 187, 350, 280, 330, 373, 309,   9,\n",
       "        19, 380, 327, 405, 226, 140, 232, 300,  10, 305, 331, 207, 161,\n",
       "       259, 138, 228, 334,  14,  15, 251, 180, 659,  16, 303, 130,  41,\n",
       "       234, 563, 129,  42,  35, 169, 396, 328,  33,  12, 376, 283, 326,\n",
       "       189, 370,  44, 135, 274, 250,  95, 490, 378, 348, 164,  24,  47,\n",
       "       311, 358, 137, 136, 210, 203, 206, 178, 374, 710, 346, 119, 285,\n",
       "       394, 238, 240, 257, 132, 355, 214, 252, 156, 190, 255, 227, 160,\n",
       "        18, 400, 356, 308, 281, 185, 179, 377, 208, 275, 347, 182, 273,\n",
       "       304, 323, 253, 261, 133, 401, 403, 298, 142, 402, 492, 381, 302,\n",
       "       213, 204, 141, 260, 351, 215, 159, 596, 216,  46, 186,  40, 153,\n",
       "       162,  43, 231, 399, 522, 212, 177,  48, 166, 230, 514,   8, 345,\n",
       "        45, 155, 359, 595, 188, 209, 587, 202, 588, 310, 168,  34, 288,\n",
       "       353, 357, 714,  13, 297, 661, 237, 299, 582, 398, 442,   5, 525,\n",
       "        38, 406, 158, 284, 371,  37, 322, 201,  17, 233, 258, 517, 495,\n",
       "       369, 584, 167, 428, 542, 538, 644, 487, 321, 276, 287, 564, 565,\n",
       "       383, 690, 352, 144,  22, 474, 384, 143, 217, 687, 407, 282, 263,\n",
       "       264, 605, 239, 594, 262, 503, 619, 548, 393, 469, 692, 242, 423,\n",
       "       286, 524, 544,  21, 478, 426, 567, 518, 416, 431, 408,   2, 420,\n",
       "       695, 679, 382, 550,  96, 551, 336, 266, 667, 449, 571,  94, 421,\n",
       "       585, 191, 686, 592,   7, 527, 195,  23, 612,  93, 165, 590, 496,\n",
       "       500, 681, 552, 526, 192, 705, 656, 570, 589, 471,   6, 479, 628,\n",
       "       637, 520, 716, 547, 545, 684, 621,  25, 312, 694, 289, 121, 577,\n",
       "       170, 673, 429, 576, 451, 241, 120, 448, 441, 617, 691, 601, 573,\n",
       "       362,   1, 361, 493, 452, 193, 670, 360, 540, 386, 675, 717, 608,\n",
       "        97, 466, 385, 610, 476,  26, 145, 290, 683,  49, 502, 194, 598,\n",
       "       566, 555, 313, 497, 338, 597, 422, 586, 599, 614, 715, 436, 709,\n",
       "       642, 574, 439, 505, 528, 676, 445, 337, 640, 664, 149, 569, 455,\n",
       "       620, 549, 200, 419, 591, 532, 483, 726, 630,   4, 440, 718, 267,\n",
       "       314, 611, 147, 122, 530, 707, 531, 498, 413, 118, 557,   3, 458,\n",
       "       110, 146, 639, 649, 719,  74, 472, 523, 578, 453,  71, 600, 409,\n",
       "        73, 106, 446,  59, 534, 340, 270, 470,  91, 465, 364, 222, 295,\n",
       "       123, 613, 685, 560, 672, 698,  69, 643, 104, 316, 516, 509, 658,\n",
       "        56,  86, 488,  63, 607, 425, 732, 318, 646, 320, 411, 102, 151,\n",
       "       627, 741, 556])"
      ]
     },
     "execution_count": 16,
     "metadata": {},
     "output_type": "execute_result"
    }
   ],
   "source": [
    "# Step\n",
    "# Original values: maps a unit of time in the real world. \n",
    "# In this case 1 step is 1 hour of time. Total steps 744 (30 days simulation). (From Kaggle)\n",
    "\n",
    "sample['step'].unique()"
   ]
  },
  {
   "cell_type": "code",
   "execution_count": 17,
   "metadata": {},
   "outputs": [],
   "source": [
    "# turn into unit = days\n",
    "# Too many different values, will \"bin\" them into days\n",
    "# diminuir a dimensionalidade\n",
    "\n",
    "sample['step'] = (sample['step']/24).astype(int)\n"
   ]
  },
  {
   "cell_type": "code",
   "execution_count": 18,
   "metadata": {},
   "outputs": [
    {
     "data": {
      "text/plain": [
       "array([10, 22, 12, 16,  9,  1, 15, 13,  5,  8, 11,  6,  7, 14,  0, 28, 27,\n",
       "       23,  3, 20, 29,  4, 24, 21,  2, 18, 17, 26, 19, 25, 30])"
      ]
     },
     "execution_count": 18,
     "metadata": {},
     "output_type": "execute_result"
    }
   ],
   "source": [
    "# New values\n",
    "\n",
    "sample['step'].unique()"
   ]
  },
  {
   "cell_type": "code",
   "execution_count": 19,
   "metadata": {},
   "outputs": [],
   "source": [
    "# drop two categorical variables with too many unique values\n",
    "# drop 'isFlaggedFraud' - is downstream from isFraud\n",
    "\n",
    "# will keep type\n",
    "\n",
    "sample.drop(['nameOrig', 'nameDest', 'isFlaggedFraud'], axis=1, inplace=True)"
   ]
  },
  {
   "cell_type": "code",
   "execution_count": 20,
   "metadata": {},
   "outputs": [
    {
     "data": {
      "text/plain": [
       "Index(['Unnamed: 0', 'step', 'type', 'amount', 'oldbalanceOrg',\n",
       "       'newbalanceOrig', 'oldbalanceDest', 'newbalanceDest', 'isFraud'],\n",
       "      dtype='object')"
      ]
     },
     "execution_count": 20,
     "metadata": {},
     "output_type": "execute_result"
    }
   ],
   "source": [
    "# check\n",
    "sample.columns"
   ]
  },
  {
   "cell_type": "code",
   "execution_count": 21,
   "metadata": {},
   "outputs": [
    {
     "data": {
      "text/plain": [
       "Unnamed: 0        0\n",
       "step              0\n",
       "type              0\n",
       "amount            0\n",
       "oldbalanceOrg     0\n",
       "newbalanceOrig    0\n",
       "oldbalanceDest    0\n",
       "newbalanceDest    0\n",
       "isFraud           0\n",
       "dtype: int64"
      ]
     },
     "execution_count": 21,
     "metadata": {},
     "output_type": "execute_result"
    }
   ],
   "source": [
    "# check for NaNs\n",
    "\n",
    "sample.isna().sum()"
   ]
  },
  {
   "cell_type": "code",
   "execution_count": 22,
   "metadata": {},
   "outputs": [
    {
     "data": {
      "text/html": [
       "<div>\n",
       "<style scoped>\n",
       "    .dataframe tbody tr th:only-of-type {\n",
       "        vertical-align: middle;\n",
       "    }\n",
       "\n",
       "    .dataframe tbody tr th {\n",
       "        vertical-align: top;\n",
       "    }\n",
       "\n",
       "    .dataframe thead th {\n",
       "        text-align: right;\n",
       "    }\n",
       "</style>\n",
       "<table border=\"1\" class=\"dataframe\">\n",
       "  <thead>\n",
       "    <tr style=\"text-align: right;\">\n",
       "      <th></th>\n",
       "      <th>Unnamed: 0</th>\n",
       "      <th>step</th>\n",
       "      <th>amount</th>\n",
       "      <th>oldbalanceOrg</th>\n",
       "      <th>newbalanceOrig</th>\n",
       "      <th>oldbalanceDest</th>\n",
       "      <th>newbalanceDest</th>\n",
       "      <th>isFraud</th>\n",
       "      <th>type_CASH_IN</th>\n",
       "      <th>type_CASH_OUT</th>\n",
       "      <th>type_DEBIT</th>\n",
       "      <th>type_PAYMENT</th>\n",
       "      <th>type_TRANSFER</th>\n",
       "    </tr>\n",
       "  </thead>\n",
       "  <tbody>\n",
       "    <tr>\n",
       "      <th>0</th>\n",
       "      <td>3216374</td>\n",
       "      <td>10</td>\n",
       "      <td>74390.34</td>\n",
       "      <td>106019.0</td>\n",
       "      <td>31628.66</td>\n",
       "      <td>22034.00</td>\n",
       "      <td>0.00</td>\n",
       "      <td>0</td>\n",
       "      <td>0</td>\n",
       "      <td>1</td>\n",
       "      <td>0</td>\n",
       "      <td>0</td>\n",
       "      <td>0</td>\n",
       "    </tr>\n",
       "    <tr>\n",
       "      <th>1</th>\n",
       "      <td>6148821</td>\n",
       "      <td>22</td>\n",
       "      <td>198046.01</td>\n",
       "      <td>49655.0</td>\n",
       "      <td>247701.01</td>\n",
       "      <td>37475.12</td>\n",
       "      <td>0.00</td>\n",
       "      <td>0</td>\n",
       "      <td>1</td>\n",
       "      <td>0</td>\n",
       "      <td>0</td>\n",
       "      <td>0</td>\n",
       "      <td>0</td>\n",
       "    </tr>\n",
       "    <tr>\n",
       "      <th>2</th>\n",
       "      <td>4254948</td>\n",
       "      <td>12</td>\n",
       "      <td>520602.03</td>\n",
       "      <td>56113.0</td>\n",
       "      <td>576715.03</td>\n",
       "      <td>165384.44</td>\n",
       "      <td>0.00</td>\n",
       "      <td>0</td>\n",
       "      <td>1</td>\n",
       "      <td>0</td>\n",
       "      <td>0</td>\n",
       "      <td>0</td>\n",
       "      <td>0</td>\n",
       "    </tr>\n",
       "    <tr>\n",
       "      <th>3</th>\n",
       "      <td>5930786</td>\n",
       "      <td>16</td>\n",
       "      <td>91118.35</td>\n",
       "      <td>16620.0</td>\n",
       "      <td>0.00</td>\n",
       "      <td>2016905.18</td>\n",
       "      <td>2108023.53</td>\n",
       "      <td>0</td>\n",
       "      <td>0</td>\n",
       "      <td>1</td>\n",
       "      <td>0</td>\n",
       "      <td>0</td>\n",
       "      <td>0</td>\n",
       "    </tr>\n",
       "    <tr>\n",
       "      <th>4</th>\n",
       "      <td>2936025</td>\n",
       "      <td>9</td>\n",
       "      <td>799.27</td>\n",
       "      <td>61608.0</td>\n",
       "      <td>60808.73</td>\n",
       "      <td>0.00</td>\n",
       "      <td>0.00</td>\n",
       "      <td>0</td>\n",
       "      <td>0</td>\n",
       "      <td>0</td>\n",
       "      <td>0</td>\n",
       "      <td>1</td>\n",
       "      <td>0</td>\n",
       "    </tr>\n",
       "  </tbody>\n",
       "</table>\n",
       "</div>"
      ],
      "text/plain": [
       "   Unnamed: 0  step     amount  oldbalanceOrg  newbalanceOrig  oldbalanceDest  \\\n",
       "0     3216374    10   74390.34       106019.0        31628.66        22034.00   \n",
       "1     6148821    22  198046.01        49655.0       247701.01        37475.12   \n",
       "2     4254948    12  520602.03        56113.0       576715.03       165384.44   \n",
       "3     5930786    16   91118.35        16620.0            0.00      2016905.18   \n",
       "4     2936025     9     799.27        61608.0        60808.73            0.00   \n",
       "\n",
       "   newbalanceDest  isFraud  type_CASH_IN  type_CASH_OUT  type_DEBIT  \\\n",
       "0            0.00        0             0              1           0   \n",
       "1            0.00        0             1              0           0   \n",
       "2            0.00        0             1              0           0   \n",
       "3      2108023.53        0             0              1           0   \n",
       "4            0.00        0             0              0           0   \n",
       "\n",
       "   type_PAYMENT  type_TRANSFER  \n",
       "0             0              0  \n",
       "1             0              0  \n",
       "2             0              0  \n",
       "3             0              0  \n",
       "4             1              0  "
      ]
     },
     "execution_count": 22,
     "metadata": {},
     "output_type": "execute_result"
    }
   ],
   "source": [
    "# turn type into a numerical\n",
    "\n",
    "# returns whole data set, categorical variables turned into ordinal data with dummies\n",
    "# did it automatically drop the type column?\n",
    "sample_dummy = pd.get_dummies(sample)\n",
    "sample_dummy.head()"
   ]
  },
  {
   "cell_type": "code",
   "execution_count": 27,
   "metadata": {},
   "outputs": [],
   "source": [
    "# drop old index\n",
    "\n",
    "sample_dummy.drop(['Unnamed: 0'], axis=1, inplace=True)"
   ]
  },
  {
   "cell_type": "code",
   "execution_count": 28,
   "metadata": {},
   "outputs": [
    {
     "data": {
      "text/plain": [
       "step                int64\n",
       "amount            float64\n",
       "oldbalanceOrg     float64\n",
       "newbalanceOrig    float64\n",
       "oldbalanceDest    float64\n",
       "newbalanceDest    float64\n",
       "isFraud             int64\n",
       "type_CASH_IN        uint8\n",
       "type_CASH_OUT       uint8\n",
       "type_DEBIT          uint8\n",
       "type_PAYMENT        uint8\n",
       "type_TRANSFER       uint8\n",
       "dtype: object"
      ]
     },
     "execution_count": 28,
     "metadata": {},
     "output_type": "execute_result"
    }
   ],
   "source": [
    "sample_dummy.dtypes"
   ]
  },
  {
   "cell_type": "code",
   "execution_count": 29,
   "metadata": {},
   "outputs": [
    {
     "data": {
      "image/png": "[encoded data removed]",
      "text/plain": [
       "<Figure size 792x648 with 2 Axes>"
      ]
     },
     "metadata": {},
     "output_type": "display_data"
    }
   ],
   "source": [
    "# Heatmap\n",
    "\n",
    "# check with multilinear\n",
    "corr = sample_dummy.corr(method='spearman')\n",
    "\n",
    "sns.set(style=\"white\")\n",
    "\n",
    "# Generate a mask for the upper triangle\n",
    "mask = np.triu(np.ones_like(corr, dtype=np.bool))\n",
    "\n",
    "# Set up the matplotlib figure\n",
    "f, ax = plt.subplots(figsize=(11, 9))\n",
    "\n",
    "# Generate a custom diverging colormap\n",
    "cmap = sns.diverging_palette(220, 10, as_cmap=True)\n",
    "\n",
    "# annot=True so as to show the value\n",
    "# Draw the heatmap with the mask and correct aspect ratio\n",
    "# vmin=-1, vmax=1 gets the whole scale\n",
    "sns.heatmap(corr, mask=mask, cmap=cmap, vmin=-1, vmax=1, center=0,\n",
    "             square=True, annot=True, linewidths=.5, cbar_kws={\"shrink\": .5})\n",
    "\n",
    "plt.show()"
   ]
  },
  {
   "cell_type": "code",
   "execution_count": 30,
   "metadata": {},
   "outputs": [],
   "source": [
    "# will drop: \n",
    "# 1. 'newbalanceOrig' (high collinearity with 'oldbalanceOrg', reason to think it's the same information \n",
    "# given in two different ways)\n",
    "# 2. 'newbalanceDest' (high collinearity with 'oldbalanceDest', also reason to think it's the same information\n",
    "# given in two different ways)\n",
    "\n",
    "sample_dummy.drop(['newbalanceOrig', 'newbalanceDest'], axis=1, inplace=True)"
   ]
  },
  {
   "cell_type": "code",
   "execution_count": 31,
   "metadata": {},
   "outputs": [
    {
     "data": {
      "text/plain": [
       "Index(['step', 'amount', 'oldbalanceOrg', 'oldbalanceDest', 'isFraud',\n",
       "       'type_CASH_IN', 'type_CASH_OUT', 'type_DEBIT', 'type_PAYMENT',\n",
       "       'type_TRANSFER'],\n",
       "      dtype='object')"
      ]
     },
     "execution_count": 31,
     "metadata": {},
     "output_type": "execute_result"
    }
   ],
   "source": [
    "sample_dummy.columns"
   ]
  },
  {
   "cell_type": "code",
   "execution_count": 32,
   "metadata": {},
   "outputs": [
    {
     "data": {
      "image/png": "[encoded data removed]",
      "text/plain": [
       "<Figure size 792x648 with 2 Axes>"
      ]
     },
     "metadata": {},
     "output_type": "display_data"
    }
   ],
   "source": [
    "# Heatmap\n",
    "\n",
    "# check with multilinear\n",
    "corr = sample_dummy.corr(method='spearman')\n",
    "\n",
    "sns.set(style=\"white\")\n",
    "\n",
    "# Generate a mask for the upper triangle\n",
    "mask = np.triu(np.ones_like(corr, dtype=np.bool))\n",
    "\n",
    "# Set up the matplotlib figure\n",
    "f, ax = plt.subplots(figsize=(11, 9))\n",
    "\n",
    "# Generate a custom diverging colormap\n",
    "cmap = sns.diverging_palette(220, 10, as_cmap=True)\n",
    "\n",
    "# annot=True so as to show the value\n",
    "# Draw the heatmap with the mask and correct aspect ratio\n",
    "# vmin=-1, vmax=1 gets the whole scale\n",
    "sns.heatmap(corr, mask=mask, cmap=cmap, vmin=-1, vmax=1, center=0,\n",
    "             square=True, annot=True, linewidths=.5, cbar_kws={\"shrink\": .5})\n",
    "\n",
    "plt.show()"
   ]
  },
  {
   "cell_type": "markdown",
   "metadata": {},
   "source": [
    "### Run a logistic regression classifier and evaluate its accuracy."
   ]
  },
  {
   "cell_type": "code",
   "execution_count": 33,
   "metadata": {},
   "outputs": [],
   "source": [
    "# let's separate the dataframe into features and target\n",
    "\n",
    "X = sample_dummy.drop(['isFraud'], axis =1) # features\n",
    "y = sample_dummy['isFraud'] # target\n",
    "\n",
    "# splitting the data to train and test\n",
    "from sklearn.model_selection import train_test_split\n",
    "X_train, X_test, y_train, y_test = train_test_split(X, y, test_size = 0.2, random_state=0)\n"
   ]
  },
  {
   "cell_type": "code",
   "execution_count": 34,
   "metadata": {},
   "outputs": [
    {
     "name": "stdout",
     "output_type": "stream",
     "text": [
      "Confusion matrix\n",
      "[[19971    29]\n",
      " [    0     0]]\n",
      "-------------------------------------------------------\n",
      "Accuracy score\n",
      "0.99855\n",
      "-------------------------------------------------------\n",
      "Classification report\n",
      "              precision    recall  f1-score   support\n",
      "\n",
      "           0       1.00      1.00      1.00     20000\n",
      "           1       0.00      0.00      0.00         0\n",
      "\n",
      "    accuracy                           1.00     20000\n",
      "   macro avg       0.50      0.50      0.50     20000\n",
      "weighted avg       1.00      1.00      1.00     20000\n",
      "\n"
     ]
    },
    {
     "name": "stderr",
     "output_type": "stream",
     "text": [
      "/opt/anaconda3/lib/python3.7/site-packages/sklearn/metrics/_classification.py:1272: UndefinedMetricWarning: Recall and F-score are ill-defined and being set to 0.0 in labels with no true samples. Use `zero_division` parameter to control this behavior.\n",
      "  _warn_prf(average, modifier, msg_start, len(result))\n"
     ]
    }
   ],
   "source": [
    "from sklearn.linear_model import LogisticRegression\n",
    "\n",
    "# Initialize model and define hyperparameters\n",
    "model = LogisticRegression(max_iter=2000)\n",
    "\n",
    "# max_iter=2000 above avoids error message (max number of interations reached)\n",
    "# if max number of interations reached, we may not reach the best model\n",
    "\n",
    "# here we train the model\n",
    "model.fit(X_train, y_train)\n",
    "from sklearn.metrics import confusion_matrix, accuracy_score, classification_report\n",
    "\n",
    "#predictions: test data\n",
    "y_pred = model.predict(X_test)\n",
    "\n",
    "# compare predictions to actual answers\n",
    "print('Confusion matrix')\n",
    "print(confusion_matrix(y_pred,y_test))\n",
    "print('-------------------------------------------------------')\n",
    "\n",
    "# accuracy_score\n",
    "# fitted X_test data vs. y_test data (actual answer)\n",
    "print('Accuracy score')\n",
    "print(accuracy_score(y_pred,y_test))\n",
    "\n",
    "print('-------------------------------------------------------')\n",
    "# classification report\n",
    "print('Classification report')\n",
    "print(classification_report(y_pred,y_test))"
   ]
  },
  {
   "cell_type": "markdown",
   "metadata": {},
   "source": [
    "### Now pick a model of your choice and evaluate its accuracy."
   ]
  },
  {
   "cell_type": "code",
   "execution_count": 35,
   "metadata": {},
   "outputs": [
    {
     "name": "stdout",
     "output_type": "stream",
     "text": [
      "Confusion matrix\n",
      "[[19956    13]\n",
      " [   15    16]]\n",
      "-------------------------------------------------------\n",
      "Accuracy score\n",
      "0.9986\n",
      "-------------------------------------------------------\n",
      "Classification report\n",
      "              precision    recall  f1-score   support\n",
      "\n",
      "           0       1.00      1.00      1.00     19969\n",
      "           1       0.55      0.52      0.53        31\n",
      "\n",
      "    accuracy                           1.00     20000\n",
      "   macro avg       0.78      0.76      0.77     20000\n",
      "weighted avg       1.00      1.00      1.00     20000\n",
      "\n"
     ]
    }
   ],
   "source": [
    "# let's do a decision tree\n",
    "\n",
    "# import model\n",
    "from sklearn.tree import DecisionTreeClassifier\n",
    "\n",
    "# create instance of the model\n",
    "dtc = DecisionTreeClassifier()\n",
    "\n",
    "# train the model\n",
    "dtc.fit(X_train, y_train)\n",
    "\n",
    "#predictions: test data\n",
    "y_pred = dtc.predict(X_test)\n",
    "\n",
    "# compare predictions to actual answers\n",
    "print('Confusion matrix')\n",
    "print(confusion_matrix(y_pred,y_test))\n",
    "print('-------------------------------------------------------')\n",
    "\n",
    "# accuracy_score\n",
    "# fitted X_test data vs. y_test data (actual answer)\n",
    "print('Accuracy score')\n",
    "print(accuracy_score(y_pred,y_test))\n",
    "\n",
    "print('-------------------------------------------------------')\n",
    "# classification report\n",
    "print('Classification report')\n",
    "print(classification_report(y_pred,y_test))"
   ]
  },
  {
   "cell_type": "code",
   "execution_count": 38,
   "metadata": {},
   "outputs": [
    {
     "name": "stdout",
     "output_type": "stream",
     "text": [
      "Confusion matrix\n",
      "[[19969    18]\n",
      " [    2    11]]\n",
      "-------------------------------------------------------\n",
      "Accuracy score\n",
      "0.999\n",
      "-------------------------------------------------------\n",
      "Classification report\n",
      "              precision    recall  f1-score   support\n",
      "\n",
      "           0       1.00      1.00      1.00     19987\n",
      "           1       0.38      0.85      0.52        13\n",
      "\n",
      "    accuracy                           1.00     20000\n",
      "   macro avg       0.69      0.92      0.76     20000\n",
      "weighted avg       1.00      1.00      1.00     20000\n",
      "\n"
     ]
    }
   ],
   "source": [
    "# Random forest\n",
    "\n",
    "from sklearn.ensemble import RandomForestClassifier\n",
    "#from sklearn.linear_model import ridge_regression\n",
    "\n",
    "# create an instance of the model\n",
    "forest = RandomForestClassifier()\n",
    "\n",
    "# fit the model\n",
    "forest.fit(X_train, y_train)\n",
    "\n",
    "# predict for test \n",
    "y_pred = forest.predict(X_test)\n",
    "\n",
    "# compare predictions to actual answers\n",
    "print('Confusion matrix')\n",
    "print(confusion_matrix(y_pred,y_test))\n",
    "print('-------------------------------------------------------')\n",
    "\n",
    "# accuracy_score\n",
    "# fitted X_test data vs. y_test data (actual answers)\n",
    "print('Accuracy score')\n",
    "print(forest.score(X_test,y_test))\n",
    "#print(accuracy_score(y_pred,y_test)) does the exact same thing as forest.score(X_test,y_test)\n",
    "print('-------------------------------------------------------')\n",
    "\n",
    "# classification report\n",
    "print('Classification report')\n",
    "print(classification_report(y_pred,y_test)) \n",
    "\n",
    "# https://medium.com/analytics-vidhya/evaluating-a-random-forest-model-9d165595ad56"
   ]
  },
  {
   "cell_type": "code",
   "execution_count": 37,
   "metadata": {},
   "outputs": [
    {
     "data": {
      "text/plain": [
       "1    109\n",
       "0    109\n",
       "Name: isFraud, dtype: int64"
      ]
     },
     "execution_count": 37,
     "metadata": {},
     "output_type": "execute_result"
    }
   ],
   "source": [
    "# let's do some downsampling\n",
    "\n",
    "from sklearn.utils import resample\n",
    "\n",
    "# separate input features and target\n",
    "X = sample_dummy.drop(['isFraud'], axis =1) # features\n",
    "y = sample_dummy['isFraud'] # target\n",
    "\n",
    "#split into training and testing subsets\n",
    "X_train, X_test, y_train, y_test = train_test_split(X, y, test_size = 0.2, random_state=0)\n",
    "\n",
    "# concatenate training data back together\n",
    "X = pd.concat([X_train, y_train], axis=1)\n",
    "\n",
    "# separate majority and minority classes\n",
    "not_fraud = X[X.isFraud == 0]\n",
    "fraud = X[X.isFraud == 1]\n",
    "\n",
    "#downsample majority\n",
    "not_fraud_downsampled = resample(not_fraud,\n",
    "                                replace=False, # sample without replacemente\n",
    "                                n_samples=len(fraud), # match minority n\n",
    "                                random_state=0) #reproducible results\n",
    "\n",
    "# combine minority and downsampled majority\n",
    "downsampled = pd.concat([not_fraud_downsampled, fraud])\n",
    "\n",
    "# check results\n",
    "downsampled['isFraud'].value_counts()"
   ]
  },
  {
   "cell_type": "code",
   "execution_count": 39,
   "metadata": {},
   "outputs": [
    {
     "name": "stdout",
     "output_type": "stream",
     "text": [
      "Confusion matrix\n",
      "[[18906     2]\n",
      " [ 1065    27]]\n",
      "-------------------------------------------------------\n",
      "Accuracy score\n",
      "0.94665\n",
      "-------------------------------------------------------\n",
      "Classification report\n",
      "              precision    recall  f1-score   support\n",
      "\n",
      "           0       0.95      1.00      0.97     18908\n",
      "           1       0.93      0.02      0.05      1092\n",
      "\n",
      "    accuracy                           0.95     20000\n",
      "   macro avg       0.94      0.51      0.51     20000\n",
      "weighted avg       0.95      0.95      0.92     20000\n",
      "\n"
     ]
    }
   ],
   "source": [
    "# Now let's run the model with downsampling\n",
    "\n",
    "# separate input features and target\n",
    "X = downsampled.drop(['isFraud'], axis=1) # features\n",
    "y = downsampled['isFraud'] # target\n",
    "\n",
    "#split into training and testing subsets\n",
    "#X_train, X_test, y_train, y_test = train_test_split(X, y, test_size = 0.2, random_state=0)´\n",
    "# we don't do this again\n",
    "# we use X, y to train, then test on real data (X_test and y_test above)\n",
    "\n",
    "# create an instance of the model\n",
    "forest = RandomForestClassifier()\n",
    "\n",
    "# fit the model\n",
    "forest.fit(X, y)\n",
    "\n",
    "# predict for test data\n",
    "y_pred = forest.predict(X_test)\n",
    "\n",
    "# compare predictions to actual answers\n",
    "print('Confusion matrix')\n",
    "print(confusion_matrix(y_pred,y_test))\n",
    "print('-------------------------------------------------------')\n",
    "\n",
    "# accuracy_score\n",
    "# fitted X_test data vs. y_test data (actual answers)\n",
    "print('Accuracy score')\n",
    "print(forest.score(X_test,y_test))\n",
    "#print(accuracy_score(y_pred,y_test)) does the exact same thing as forest.score(X_test,y_test)\n",
    "print('-------------------------------------------------------')\n",
    "\n",
    "# classification report\n",
    "print('Classification report')\n",
    "print(classification_report(y_pred,y_test)) "
   ]
  },
  {
   "cell_type": "code",
   "execution_count": 40,
   "metadata": {},
   "outputs": [
    {
     "name": "stdout",
     "output_type": "stream",
     "text": [
      "218\n",
      "218\n",
      "20000\n",
      "20000\n"
     ]
    }
   ],
   "source": [
    "# checking\n",
    "print(len(X))\n",
    "print(len(y))\n",
    "print(len(X_test))\n",
    "print(len(y_test))"
   ]
  },
  {
   "cell_type": "markdown",
   "metadata": {},
   "source": [
    "### Which model worked better and how do you know?"
   ]
  },
  {
   "cell_type": "code",
   "execution_count": null,
   "metadata": {},
   "outputs": [],
   "source": [
    "# Your response here\n",
    "\n",
    "# Random Forest with downsampling had very poor results wrt recall of fraudulent transactions\n",
    "# f1-score is thus very low\n",
    "# Good results wrt precision of fraudulent transactions, but this is not the most relevant metric in this case\n",
    "\n",
    "# Of the models tested above, the best one seems to be Random Forest Classifier without downsampling\n",
    "# It had the highest recall for fraudulent transactions of all three models"
   ]
  },
  {
   "cell_type": "markdown",
   "metadata": {},
   "source": [
    "### Note: before doing the first commit, make sure you don't include the large csv file, either by adding it to .gitignore, or by deleting it."
   ]
  }
 ],
 "metadata": {
  "kernelspec": {
   "display_name": "Python 3",
   "language": "python",
   "name": "python3"
  },
  "language_info": {
   "codemirror_mode": {
    "name": "ipython",
    "version": 3
   },
   "file_extension": ".py",
   "mimetype": "text/x-python",
   "name": "python",
   "nbconvert_exporter": "python",
   "pygments_lexer": "ipython3",
   "version": "3.7.6"
  }
 },
 "nbformat": 4,
 "nbformat_minor": 2
}
